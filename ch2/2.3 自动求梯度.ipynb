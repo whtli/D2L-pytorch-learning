{
 "cells": [
  {
   "cell_type": "markdown",
   "id": "77b5d129",
   "metadata": {},
   "source": [
    "使用autograd包来进行自动求梯度的有关操作"
   ]
  },
  {
   "cell_type": "markdown",
   "id": "2da01b4e",
   "metadata": {},
   "source": [
    "### 2.3.1 概念"
   ]
  },
  {
   "cell_type": "markdown",
   "id": "46ca1495",
   "metadata": {},
   "source": [
    "+ 如果将Tensor的属性 .requires_grad 设置为True，它将开始追踪(track)在Tensor上的所有操作（这样就可以利用链式法则进行梯度传播了）。\n",
    "+ 完成计算后，可以调用.backward()来完成所有梯度计算。\n",
    "+ 此Tensor的梯度将累积到 .grad 属性中。"
   ]
  },
  {
   "cell_type": "markdown",
   "id": "f8cee85b",
   "metadata": {},
   "source": [
    "+ 如果不想被继续追踪，可以调用 .detach() 将其从追踪记录中分离出来，以防止此后的计算被追踪，这样梯度就传不过去了。\n",
    "+ 还可以用 with torch.no_grad() 将不想被追踪的操作代码块包裹起来，此方法在评估模型的时候常用，因为在评估模型时不需要计算可训练参数（requires_grad=True）的梯度。"
   ]
  },
  {
   "cell_type": "markdown",
   "id": "e56c622a",
   "metadata": {},
   "source": [
    "+ Tensor和Function互相结合可以构建一个记录有整个计算过程的有向无环图（DAG）。\n",
    "+ 每个Tensor都有一个.grad_fn 属性，该属性就是创建该Tensor的Function，可判断该Tensor是不是通过某些运算得到的：若是，则grad_fn返回一个与这些运算相关的对象，若否，则返回None。"
   ]
  },
  {
   "cell_type": "markdown",
   "id": "11dfae24",
   "metadata": {},
   "source": [
    "### 2.3.2 Tensor"
   ]
  },
  {
   "cell_type": "code",
   "execution_count": 1,
   "id": "916ea78e",
   "metadata": {},
   "outputs": [
    {
     "name": "stdout",
     "output_type": "stream",
     "text": [
      "tensor([[1., 1.],\n",
      "        [1., 1.]], requires_grad=True)\n",
      "None\n"
     ]
    }
   ],
   "source": [
    "# 创建一个Tensor并设置requires_grad=True\n",
    "import torch\n",
    "x = torch.ones(2, 2, requires_grad=True)\n",
    "print(x)\n",
    "print(x.grad_fn)"
   ]
  },
  {
   "cell_type": "code",
   "execution_count": 2,
   "id": "f4728813",
   "metadata": {},
   "outputs": [
    {
     "name": "stdout",
     "output_type": "stream",
     "text": [
      "tensor([[3., 3.],\n",
      "        [3., 3.]], grad_fn=<AddBackward0>)\n",
      "<AddBackward0 object at 0x0000013050437358>\n"
     ]
    }
   ],
   "source": [
    "# 做运算后观察 结果变量的 .grad_fn 属性\n",
    "y = x + 2\n",
    "print(y)\n",
    "print(y.grad_fn)"
   ]
  },
  {
   "cell_type": "markdown",
   "id": "3f5b0ad2",
   "metadata": {},
   "source": [
    "因为x是直接创建的，所以它没有grad_fn，而y是通过一个加法操作创建的，所以它有一个为`<AddBackward0>`的grad_fn。"
   ]
  },
  {
   "cell_type": "code",
   "execution_count": 3,
   "id": "d564eb1d",
   "metadata": {},
   "outputs": [
    {
     "name": "stdout",
     "output_type": "stream",
     "text": [
      "True False\n"
     ]
    }
   ],
   "source": [
    "# 像x这种直接创建的称为叶子节点，叶子节点对应的grad_fn是None\n",
    "print(x.is_leaf, y.is_leaf) # True False"
   ]
  },
  {
   "cell_type": "code",
   "execution_count": 4,
   "id": "606e7ccc",
   "metadata": {},
   "outputs": [
    {
     "name": "stdout",
     "output_type": "stream",
     "text": [
      "tensor([[27., 27.],\n",
      "        [27., 27.]], grad_fn=<MulBackward0>) tensor(27., grad_fn=<MeanBackward0>)\n"
     ]
    }
   ],
   "source": [
    "# 复杂运算\n",
    "z = y * y * 3\n",
    "out = z.mean()\n",
    "print(z, out)"
   ]
  },
  {
   "cell_type": "code",
   "execution_count": 5,
   "id": "33dc828a",
   "metadata": {},
   "outputs": [
    {
     "name": "stdout",
     "output_type": "stream",
     "text": [
      "False\n",
      "True\n",
      "<SumBackward0 object at 0x0000013056A19048>\n"
     ]
    }
   ],
   "source": [
    "# 通过.requires_grad_()，来用in-place的方式改变requires_grad属性\n",
    "a = torch.randn(2, 2) # 缺失情况下默认 requires_grad = False\n",
    "a = ((a * 3) / (a - 1))\n",
    "print(a.requires_grad) # False\n",
    "a.requires_grad_(True)\n",
    "print(a.requires_grad) # True\n",
    "b = (a * a).sum()\n",
    "print(b.grad_fn)"
   ]
  },
  {
   "cell_type": "markdown",
   "id": "1245cc27",
   "metadata": {},
   "source": [
    "### 2.3.3 梯度"
   ]
  },
  {
   "cell_type": "code",
   "execution_count": 6,
   "id": "6b2c2da3",
   "metadata": {},
   "outputs": [],
   "source": [
    "# out是一个标量，所以调用backward()时不需要指定求导变量\n",
    "out.backward() # 等价于 out.backward(torch.tensor(1.))"
   ]
  },
  {
   "cell_type": "code",
   "execution_count": 7,
   "id": "03ebc8f6",
   "metadata": {},
   "outputs": [
    {
     "name": "stdout",
     "output_type": "stream",
     "text": [
      "tensor([[4.5000, 4.5000],\n",
      "        [4.5000, 4.5000]])\n"
     ]
    }
   ],
   "source": [
    "# out关于x的梯度\n",
    "print(x.grad)"
   ]
  },
  {
   "cell_type": "markdown",
   "id": "c9250e4d",
   "metadata": {},
   "source": [
    "+ out = (1/4)Σ3(xi + 2)²\n",
    "+ 梯度 = out对x求偏导，xi = 1时，梯度为4.5"
   ]
  },
  {
   "cell_type": "markdown",
   "id": "8500b598",
   "metadata": {},
   "source": [
    "数学上，如果有一个函数值和自变量都为向量的函数y-> = f(x->)，那么y->关于x->的梯度就是一个雅可比矩阵（Jacobian matrix）\n",
    "包 torch.autograd 可用于计算一些雅克比矩阵的乘积"
   ]
  },
  {
   "cell_type": "markdown",
   "id": "73adddd5",
   "metadata": {},
   "source": [
    "grad在反向传播过程中是累加的(accumulated)，这意味着每一次运行反向传播，梯度都会累加之前的梯度，所以一般在反向传播之前需把梯度清零"
   ]
  },
  {
   "cell_type": "code",
   "execution_count": 9,
   "id": "e4682fa8",
   "metadata": {},
   "outputs": [
    {
     "name": "stdout",
     "output_type": "stream",
     "text": [
      "tensor(4., grad_fn=<SumBackward0>)\n",
      "tensor([[2., 2.],\n",
      "        [2., 2.]])\n",
      "tensor([[1., 1.],\n",
      "        [1., 1.]])\n"
     ]
    }
   ],
   "source": [
    "# 再反向传播一次，grad是累加的\n",
    "# 调用.backward()来完成所有梯度计算\n",
    "out2 = x.sum()\n",
    "print(out2)\n",
    "out2.backward()\n",
    "print(x.grad)\n",
    "out3 = x.sum()\n",
    "x.grad.data.zero_()\n",
    "out3.backward()\n",
    "print(x.grad)"
   ]
  },
  {
   "cell_type": "markdown",
   "id": "95fe947a",
   "metadata": {},
   "source": [
    "+ 不允许张量对张量求导，只允许标量对张量求导，求导结果是和自变量同形的张量\n",
    "+ 所以必要时要把张量通过将所有张量的元素加权求和的方式转换为标量\n",
    "+ 例：设y由自变量x计算而来，w是和y同形的张量，则y.backward(w)的含义是：先计算t = torch.sum(y * w)，则t是个标量，然后求t对自变量x的导数"
   ]
  },
  {
   "cell_type": "code",
   "execution_count": 10,
   "id": "60f372ac",
   "metadata": {},
   "outputs": [
    {
     "name": "stdout",
     "output_type": "stream",
     "text": [
      "tensor([[2., 4.],\n",
      "        [6., 8.]], grad_fn=<ViewBackward0>)\n"
     ]
    }
   ],
   "source": [
    "x = torch.tensor([1.0, 2.0, 3.0, 4.0], requires_grad=True)\n",
    "y = 2 * x\n",
    "z = y.view(2, 2)\n",
    "print(z)"
   ]
  },
  {
   "cell_type": "code",
   "execution_count": 11,
   "id": "4173649c",
   "metadata": {},
   "outputs": [
    {
     "name": "stdout",
     "output_type": "stream",
     "text": [
      "tensor([2.0000, 0.2000, 0.0200, 0.0020])\n"
     ]
    }
   ],
   "source": [
    "# 现在 z 不是一个标量，所以在调用backward时需要传入一个和z同形的权重向量进行加权求和得到一个标量\n",
    "v = torch.tensor([[1.0, 0.1], [0.01, 0.001]], dtype=torch.float)\n",
    "z.backward(v)\n",
    "print(x.grad)"
   ]
  },
  {
   "cell_type": "markdown",
   "id": "420a2dc4",
   "metadata": {},
   "source": [
    "> note：x.grad是和x同形的张量。"
   ]
  },
  {
   "cell_type": "markdown",
   "id": "a1e74b0f",
   "metadata": {},
   "source": [
    "+ 中断梯度追踪的例子"
   ]
  },
  {
   "cell_type": "code",
   "execution_count": 12,
   "id": "d021a2df",
   "metadata": {},
   "outputs": [
    {
     "name": "stdout",
     "output_type": "stream",
     "text": [
      "True\n",
      "tensor(1., grad_fn=<PowBackward0>) True\n",
      "tensor(1.) False\n",
      "tensor(2., grad_fn=<AddBackward0>) True\n"
     ]
    }
   ],
   "source": [
    "x = torch.tensor(1.0, requires_grad=True)\n",
    "y1 = x ** 2 \n",
    "# 用with torch.no_grad() 将不想被追踪的操作代码块包裹起来\n",
    "with torch.no_grad():\n",
    "    y2 = x ** 3\n",
    "y3 = y1 + y2\n",
    "print(x.requires_grad)\n",
    "print(y1, y1.requires_grad) # True\n",
    "print(y2, y2.requires_grad) # False\n",
    "print(y3, y3.requires_grad) # True"
   ]
  },
  {
   "cell_type": "code",
   "execution_count": 13,
   "id": "392781c8",
   "metadata": {},
   "outputs": [
    {
     "name": "stdout",
     "output_type": "stream",
     "text": [
      "tensor(2.)\n"
     ]
    }
   ],
   "source": [
    "# y3对x求梯度\n",
    "y3.backward()\n",
    "print(x.grad)"
   ]
  },
  {
   "cell_type": "markdown",
   "id": "3429f625",
   "metadata": {},
   "source": [
    "由于y2的定义被torch.no_grad():包裹，所以与y2有关的梯度不会回传，只有与y1有关的梯度才会回传，即y1=x^2对x的梯度"
   ]
  },
  {
   "cell_type": "code",
   "execution_count": 14,
   "id": "557fd7c4",
   "metadata": {},
   "outputs": [
    {
     "name": "stdout",
     "output_type": "stream",
     "text": [
      "tensor([1.])\n",
      "False\n",
      "tensor([100.], requires_grad=True)\n",
      "tensor([2.])\n"
     ]
    }
   ],
   "source": [
    "# 如果想修改tensor的数值，但是又不希望被autograd记录（不去影响反向传播），则可以对tensor.data进行操作\n",
    "x = torch.ones(1,requires_grad=True)\n",
    "print(x.data) # 还是一个tensor\n",
    "print(x.data.requires_grad) # 但是已经是独立于计算图之外\n",
    "y = 2 * x\n",
    "x.data *= 100 # 只改变了值，不会记录在计算图，所以不会影响梯度传播\n",
    "y.backward()\n",
    "print(x) # 更改data的值也会影响tensor的值\n",
    "print(x.grad)"
   ]
  },
  {
   "cell_type": "code",
   "execution_count": null,
   "id": "f2fee6ca",
   "metadata": {},
   "outputs": [],
   "source": []
  },
  {
   "cell_type": "code",
   "execution_count": null,
   "id": "ae52edc0",
   "metadata": {},
   "outputs": [],
   "source": []
  },
  {
   "cell_type": "code",
   "execution_count": null,
   "id": "1c573d89",
   "metadata": {},
   "outputs": [],
   "source": []
  },
  {
   "cell_type": "code",
   "execution_count": null,
   "id": "65b7b4cb",
   "metadata": {},
   "outputs": [],
   "source": []
  }
 ],
 "metadata": {
  "kernelspec": {
   "display_name": "Python 3",
   "language": "python",
   "name": "python3"
  },
  "language_info": {
   "codemirror_mode": {
    "name": "ipython",
    "version": 3
   },
   "file_extension": ".py",
   "mimetype": "text/x-python",
   "name": "python",
   "nbconvert_exporter": "python",
   "pygments_lexer": "ipython3",
   "version": "3.6.13"
  }
 },
 "nbformat": 4,
 "nbformat_minor": 5
}
