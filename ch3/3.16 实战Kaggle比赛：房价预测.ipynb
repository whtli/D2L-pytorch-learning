{
 "cells": [
  {
   "cell_type": "code",
   "execution_count": 1,
   "id": "a839a124",
   "metadata": {},
   "outputs": [
    {
     "name": "stdout",
     "output_type": "stream",
     "text": [
      "1.10.0\n"
     ]
    }
   ],
   "source": [
    "# 如果没有安装pandas，则反注释下面一行\n",
    "# !pip install pandas\n",
    "%matplotlib inline\n",
    "import torch\n",
    "import torch.nn as nn\n",
    "import numpy as np\n",
    "import pandas as pd\n",
    "import sys\n",
    "sys.path.append(\"..\") \n",
    "import d2lzh_pytorch as d2l\n",
    "print(torch.__version__)\n",
    "torch.set_default_tensor_type(torch.FloatTensor)"
   ]
  },
  {
   "cell_type": "markdown",
   "id": "918ab5d3",
   "metadata": {},
   "source": [
    "### 3.16.2 获取和读取数据集"
   ]
  },
  {
   "cell_type": "code",
   "execution_count": null,
   "id": "e2837b53",
   "metadata": {},
   "outputs": [],
   "source": [
    "train_data = pd.read_csv('../../data/kaggle_house/train.csv')\n",
    "test_data = pd.read_csv('../../data/kaggle_house/test.csv')"
   ]
  },
  {
   "cell_type": "code",
   "execution_count": null,
   "id": "6f707528",
   "metadata": {},
   "outputs": [],
   "source": [
    "# 训练数据集包括1460个样本、80个特征和1个标签。\n",
    "\n",
    "train_data.shape # 输出 (1460, 81)"
   ]
  },
  {
   "cell_type": "code",
   "execution_count": null,
   "id": "a96e7575",
   "metadata": {},
   "outputs": [],
   "source": [
    "# 测试数据集包括1459个样本和80个特征。我们需要将测试数据集中每个样本的标签预测出来。\n",
    "\n",
    "test_data.shape # 输出 (1459, 80)"
   ]
  },
  {
   "cell_type": "code",
   "execution_count": null,
   "id": "0d7aafd6",
   "metadata": {},
   "outputs": [],
   "source": [
    "# 查看前4个样本的前4个特征、后2个特征和标签（SalePrice）：\n",
    "\n",
    "train_data.iloc[0:4, [0, 1, 2, 3, -3, -2, -1]]"
   ]
  },
  {
   "cell_type": "markdown",
   "id": "e32f4d5a",
   "metadata": {},
   "source": [
    "### 3.16.3 预处理数据"
   ]
  },
  {
   "cell_type": "code",
   "execution_count": null,
   "id": "11ba4d80",
   "metadata": {},
   "outputs": [],
   "source": [
    "# 对连续数值的特征做标准化（standardization）\n",
    "numeric_features = all_features.dtypes[all_features.dtypes != 'object'].index\n",
    "all_features[numeric_features] = all_features[numeric_features].apply(\n",
    "    lambda x: (x - x.mean()) / (x.std()))\n",
    "# 标准化后，每个数值特征的均值变为0，所以可以直接用0来替换缺失值\n",
    "all_features[numeric_features] = all_features[numeric_features].fillna(0)"
   ]
  },
  {
   "cell_type": "code",
   "execution_count": null,
   "id": "146c8fce",
   "metadata": {},
   "outputs": [],
   "source": [
    "# 将离散数值转成指示特征\n",
    "# dummy_na=True将缺失值也当作合法的特征值并为其创建指示特征\n",
    "all_features = pd.get_dummies(all_features, dummy_na=True)\n",
    "all_features.shape # (2919, 331)"
   ]
  },
  {
   "cell_type": "code",
   "execution_count": null,
   "id": "614a6579",
   "metadata": {},
   "outputs": [],
   "source": [
    "# 通过values属性得到NumPy格式的数据，并转成Tensor方便后面的训练\n",
    "n_train = train_data.shape[0]\n",
    "train_features = torch.tensor(all_features[:n_train].values, dtype=torch.float)\n",
    "test_features = torch.tensor(all_features[n_train:].values, dtype=torch.float)\n",
    "train_labels = torch.tensor(train_data.SalePrice.values, dtype=torch.float).view(-1, 1)"
   ]
  },
  {
   "cell_type": "markdown",
   "id": "93054cb0",
   "metadata": {},
   "source": [
    "### 3.16.4 训练模型"
   ]
  },
  {
   "cell_type": "code",
   "execution_count": null,
   "id": "c096671b",
   "metadata": {},
   "outputs": [],
   "source": [
    "# 使用一个基本的线性回归模型和平方损失函数来训练模型\n",
    "loss = torch.nn.MSELoss()\n",
    "def get_net(feature_num):\n",
    "    net = nn.Linear(feature_num, 1)\n",
    "    for param in net.parameters():\n",
    "        nn.init.normal_(param, mean=0, std=0.01)\n",
    "    return net"
   ]
  },
  {
   "cell_type": "code",
   "execution_count": null,
   "id": "15b07d44",
   "metadata": {},
   "outputs": [],
   "source": [
    "# 定义比赛用来评价模型的对数均方根误差\n",
    "def log_rmse(net, features, labels):\n",
    "    with torch.no_grad():\n",
    "        # 将小于1的值设成1，使得取对数时数值更稳定\n",
    "        clipped_preds = torch.max(net(features), torch.tensor(1.0))\n",
    "        rmse = torch.sqrt(loss(clipped_preds.log(), labels.log()))\n",
    "    return rmse.item()"
   ]
  },
  {
   "cell_type": "code",
   "execution_count": null,
   "id": "5227054d",
   "metadata": {},
   "outputs": [],
   "source": [
    "# Adam优化算法\n",
    "def train(net, train_features, train_labels, test_features, test_labels,\n",
    "          num_epochs, learning_rate, weight_decay, batch_size):\n",
    "    train_ls, test_ls = [], []\n",
    "    dataset = torch.utils.data.TensorDataset(train_features, train_labels)\n",
    "    train_iter = torch.utils.data.DataLoader(dataset, batch_size, shuffle=True)\n",
    "    # 这里使用了Adam优化算法\n",
    "    optimizer = torch.optim.Adam(params=net.parameters(), lr=learning_rate, weight_decay=weight_decay) \n",
    "    net = net.float()\n",
    "    for epoch in range(num_epochs):\n",
    "        for X, y in train_iter:\n",
    "            l = loss(net(X.float()), y.float())\n",
    "            optimizer.zero_grad()\n",
    "            l.backward()\n",
    "            optimizer.step()\n",
    "        train_ls.append(log_rmse(net, train_features, train_labels))\n",
    "        if test_labels is not None:\n",
    "            test_ls.append(log_rmse(net, test_features, test_labels))\n",
    "    return train_ls, test_ls"
   ]
  },
  {
   "cell_type": "markdown",
   "id": "fee5b48f",
   "metadata": {},
   "source": [
    "### 3.16.5 折交叉验证"
   ]
  },
  {
   "cell_type": "code",
   "execution_count": null,
   "id": "756a9479",
   "metadata": {},
   "outputs": [],
   "source": [
    "# 实现一个函数，它返回第i折交叉验证时所需要的训练和验证数据\n",
    "def get_k_fold_data(k, i, X, y):\n",
    "    # 返回第i折交叉验证时所需要的训练和验证数据\n",
    "    assert k > 1\n",
    "    fold_size = X.shape[0] // k\n",
    "    X_train, y_train = None, None\n",
    "    for j in range(k):\n",
    "        idx = slice(j * fold_size, (j + 1) * fold_size)\n",
    "        X_part, y_part = X[idx, :], y[idx]\n",
    "        if j == i:\n",
    "            X_valid, y_valid = X_part, y_part\n",
    "        elif X_train is None:\n",
    "            X_train, y_train = X_part, y_part\n",
    "        else:\n",
    "            X_train = torch.cat((X_train, X_part), dim=0)\n",
    "            y_train = torch.cat((y_train, y_part), dim=0)\n",
    "    return X_train, y_train, X_valid, y_valid"
   ]
  },
  {
   "cell_type": "code",
   "execution_count": null,
   "id": "b7b1c858",
   "metadata": {},
   "outputs": [],
   "source": [
    "# 训练K次并返回训练和验证的平均误差\n",
    "def k_fold(k, X_train, y_train, num_epochs,\n",
    "           learning_rate, weight_decay, batch_size):\n",
    "    train_l_sum, valid_l_sum = 0, 0\n",
    "    for i in range(k):\n",
    "        data = get_k_fold_data(k, i, X_train, y_train)\n",
    "        net = get_net(X_train.shape[1])\n",
    "        train_ls, valid_ls = train(net, *data, num_epochs, learning_rate,\n",
    "                                   weight_decay, batch_size)\n",
    "        train_l_sum += train_ls[-1]\n",
    "        valid_l_sum += valid_ls[-1]\n",
    "        if i == 0:\n",
    "            d2l.semilogy(range(1, num_epochs + 1), train_ls, 'epochs', 'rmse',\n",
    "                         range(1, num_epochs + 1), valid_ls,\n",
    "                         ['train', 'valid'])\n",
    "        print('fold %d, train rmse %f, valid rmse %f' % (i, train_ls[-1], valid_ls[-1]))\n",
    "    return train_l_sum / k, valid_l_sum / k"
   ]
  },
  {
   "cell_type": "markdown",
   "id": "af9147be",
   "metadata": {},
   "source": [
    "### 3.16.6 模型选择"
   ]
  },
  {
   "cell_type": "code",
   "execution_count": null,
   "id": "288f2179",
   "metadata": {},
   "outputs": [],
   "source": [
    "# 使用一组未经调优的超参数并计算交叉验证误差。可以改动这些超参数来尽可能减小平均测试误差\n",
    "k, num_epochs, lr, weight_decay, batch_size = 5, 100, 5, 0, 64\n",
    "train_l, valid_l = k_fold(k, train_features, train_labels, num_epochs, lr, weight_decay, batch_size)\n",
    "print('%d-fold validation: avg train rmse %f, avg valid rmse %f' % (k, train_l, valid_l))\n",
    "# 有时一组参数的训练误差可以达到很低，但是在K折交叉验证上的误差可能反而较高。\n",
    "# 这种现象很可能是由过拟合造成的。因此，当训练误差降低时要观察K折交叉验证上的误差是否也相应降低。"
   ]
  },
  {
   "cell_type": "markdown",
   "id": "7db6306c",
   "metadata": {},
   "source": [
    "### 3.16.7 预测并在Kaggle提交结果"
   ]
  },
  {
   "cell_type": "code",
   "execution_count": null,
   "id": "8be84955",
   "metadata": {},
   "outputs": [],
   "source": [
    "# 定义预测函数,在预测之前，使用完整的训练数据集来重新训练模型，并将预测结果存成提交所需要的格式\n",
    "def train_and_pred(train_features, test_features, train_labels, test_data,\n",
    "                   num_epochs, lr, weight_decay, batch_size):\n",
    "    net = get_net(train_features.shape[1])\n",
    "    train_ls, _ = train(net, train_features, train_labels, None, None,\n",
    "                        num_epochs, lr, weight_decay, batch_size)\n",
    "    d2l.semilogy(range(1, num_epochs + 1), train_ls, 'epochs', 'rmse')\n",
    "    print('train rmse %f' % train_ls[-1])\n",
    "    preds = net(test_features).detach().numpy()\n",
    "    test_data['SalePrice'] = pd.Series(preds.reshape(1, -1)[0])\n",
    "    submission = pd.concat([test_data['Id'], test_data['SalePrice']], axis=1)\n",
    "    submission.to_csv('./submission.csv', index=False)"
   ]
  },
  {
   "cell_type": "code",
   "execution_count": null,
   "id": "7fc91039",
   "metadata": {},
   "outputs": [],
   "source": [
    "# 设计好模型并调好超参数之后，下一步就是对测试数据集上的房屋样本做价格预测\n",
    "# 如果得到与交叉验证时差不多的训练误差，那么这个结果很可能是理想的\n",
    "train_and_pred(train_features, test_features, train_labels, test_data, num_epochs, lr, weight_decay, batch_size)"
   ]
  },
  {
   "cell_type": "code",
   "execution_count": null,
   "id": "ae3e0490",
   "metadata": {},
   "outputs": [],
   "source": []
  },
  {
   "cell_type": "code",
   "execution_count": null,
   "id": "efd1c097",
   "metadata": {},
   "outputs": [],
   "source": []
  }
 ],
 "metadata": {
  "kernelspec": {
   "display_name": "Python 3",
   "language": "python",
   "name": "python3"
  },
  "language_info": {
   "codemirror_mode": {
    "name": "ipython",
    "version": 3
   },
   "file_extension": ".py",
   "mimetype": "text/x-python",
   "name": "python",
   "nbconvert_exporter": "python",
   "pygments_lexer": "ipython3",
   "version": "3.6.13"
  }
 },
 "nbformat": 4,
 "nbformat_minor": 5
}
